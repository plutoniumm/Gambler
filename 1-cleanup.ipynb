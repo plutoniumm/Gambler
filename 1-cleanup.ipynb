{
 "cells": [
  {
   "cell_type": "code",
   "execution_count": 1,
   "id": "08ba9449",
   "metadata": {
    "scrolled": true
   },
   "outputs": [],
   "source": [
    "import pandas as pd;\n",
    "import json;\n",
    "import math;"
   ]
  },
  {
   "cell_type": "code",
   "execution_count": 2,
   "id": "c9ee4329",
   "metadata": {},
   "outputs": [
    {
     "data": {
      "text/html": [
       "<div>\n",
       "<style scoped>\n",
       "    .dataframe tbody tr th:only-of-type {\n",
       "        vertical-align: middle;\n",
       "    }\n",
       "\n",
       "    .dataframe tbody tr th {\n",
       "        vertical-align: top;\n",
       "    }\n",
       "\n",
       "    .dataframe thead th {\n",
       "        text-align: right;\n",
       "    }\n",
       "</style>\n",
       "<table border=\"1\" class=\"dataframe\">\n",
       "  <thead>\n",
       "    <tr style=\"text-align: right;\">\n",
       "      <th></th>\n",
       "      <th>name</th>\n",
       "      <th>file</th>\n",
       "      <th>range</th>\n",
       "      <th>order</th>\n",
       "    </tr>\n",
       "  </thead>\n",
       "  <tbody>\n",
       "    <tr>\n",
       "      <th>0</th>\n",
       "      <td>S&amp;P 500</td>\n",
       "      <td>SPX_WSJ.csv</td>\n",
       "      <td>{'start': '2/1/1991', 'end': '3/11/2021'}</td>\n",
       "      <td>[Date, Open, High, Low, Close]</td>\n",
       "    </tr>\n",
       "    <tr>\n",
       "      <th>1</th>\n",
       "      <td>SENSEX</td>\n",
       "      <td>SENSEX_WSJ.csv</td>\n",
       "      <td>{'start': '1/1/1991', 'end': '3/11/2021'}</td>\n",
       "      <td>[Date, Open, High, Low, Close]</td>\n",
       "    </tr>\n",
       "    <tr>\n",
       "      <th>2</th>\n",
       "      <td>NIKKEI 225</td>\n",
       "      <td>N225_WSJ.csv</td>\n",
       "      <td>{'start': '4/1/1991', 'end': '2/11/2021'}</td>\n",
       "      <td>[Date, Open, High, Low, Close]</td>\n",
       "    </tr>\n",
       "    <tr>\n",
       "      <th>3</th>\n",
       "      <td>FTSE 100</td>\n",
       "      <td>UKX_WSJ.csv</td>\n",
       "      <td>{'start': '2/1/1991', 'end': '3/11/2021'}</td>\n",
       "      <td>[Date, Open, High, Low, Close]</td>\n",
       "    </tr>\n",
       "    <tr>\n",
       "      <th>4</th>\n",
       "      <td>BTC/USD</td>\n",
       "      <td>BTC-USD_Yahoo.csv</td>\n",
       "      <td>{'start': '17/9/2014', 'end': '4/11/2021'}</td>\n",
       "      <td>[Date, Open, High, Low, Close, Adj Close, Volume]</td>\n",
       "    </tr>\n",
       "  </tbody>\n",
       "</table>\n",
       "</div>"
      ],
      "text/plain": [
       "         name               file                                       range  \\\n",
       "0     S&P 500        SPX_WSJ.csv   {'start': '2/1/1991', 'end': '3/11/2021'}   \n",
       "1      SENSEX     SENSEX_WSJ.csv   {'start': '1/1/1991', 'end': '3/11/2021'}   \n",
       "2  NIKKEI 225       N225_WSJ.csv   {'start': '4/1/1991', 'end': '2/11/2021'}   \n",
       "3    FTSE 100        UKX_WSJ.csv   {'start': '2/1/1991', 'end': '3/11/2021'}   \n",
       "4     BTC/USD  BTC-USD_Yahoo.csv  {'start': '17/9/2014', 'end': '4/11/2021'}   \n",
       "\n",
       "                                               order  \n",
       "0                     [Date, Open, High, Low, Close]  \n",
       "1                     [Date, Open, High, Low, Close]  \n",
       "2                     [Date, Open, High, Low, Close]  \n",
       "3                     [Date, Open, High, Low, Close]  \n",
       "4  [Date, Open, High, Low, Close, Adj Close, Volume]  "
      ]
     },
     "execution_count": 2,
     "metadata": {},
     "output_type": "execute_result"
    }
   ],
   "source": [
    "map_json = open('datamap.json');\n",
    "nav = json.load(map_json)['raw'];\n",
    "\n",
    "dataset = nav['files'];\n",
    "pd.DataFrame(dataset).reindex(columns=['name','file','range', 'order'])"
   ]
  },
  {
   "cell_type": "code",
   "execution_count": 3,
   "id": "1b604298",
   "metadata": {},
   "outputs": [],
   "source": [
    "# Load Dataset, Get Date and Closing and Reverse Where needed;\n",
    "data_snp5 = pd.read_csv('raws/SPX_WSJ.csv')[['Date', 'Close']][::-1];\n",
    "data_sens = pd.read_csv('raws/SENSEX_WSJ.csv')[['Date', 'Close']][::-1];\n",
    "data_n225 = pd.read_csv('raws/N225_WSJ.csv')[['Date', 'Close']][::-1];\n",
    "data_ftse = pd.read_csv('raws/UKX_WSJ.csv')[['Date', 'Close']][::-1];\n",
    "data_btco = pd.read_csv('raws/BTC-USD_Yahoo.csv')[['Date', 'Close']];\n",
    "\n",
    "stocks={}\n",
    "names=['data_snp5', 'data_sens', 'data_n225', 'data_ftse', 'data_btco'];\n",
    "\n",
    "for i,j in zip([data_snp5, data_sens, data_n225, data_ftse, data_btco],names):\n",
    "    # Reformat Date string to DateTime Object\n",
    "    dt = pd.to_datetime(i['Date'], infer_datetime_format=True);\n",
    "    i['Date'] = dt;\n",
    "    \n",
    "    # Reset Index & Resample\n",
    "    i = i.set_index(['Date']);\n",
    "    i = i.resample('D').mean().fillna(0);\n",
    "    # Store in new Object\n",
    "    stocks[j]=i;"
   ]
  },
  {
   "cell_type": "code",
   "execution_count": 4,
   "id": "c2380f0c",
   "metadata": {
    "scrolled": false
   },
   "outputs": [],
   "source": [
    "# Replace 0 values with previous close price;\n",
    "for p in stocks:\n",
    "    close=stocks[p]['Close'];\n",
    "    for i in range(len(close)-1):\n",
    "        if close[i+1]==0:\n",
    "            close[i+1]=close[i];\n",
    "    stocks[p]['Close']=close;"
   ]
  },
  {
   "cell_type": "code",
   "execution_count": 5,
   "id": "2eea91b0",
   "metadata": {},
   "outputs": [
    {
     "name": "stdout",
     "output_type": "stream",
     "text": [
      "data_snp5\n",
      "              Close\n",
      "Date              \n",
      "1991-01-04  321.00\n",
      "1991-01-05  321.00\n",
      "1991-01-06  321.00\n",
      "1991-01-07  315.44\n",
      "1991-01-08  314.90\n",
      "data_sens\n",
      "               Close\n",
      "Date               \n",
      "1991-01-04   982.35\n",
      "1991-01-05   982.35\n",
      "1991-01-06   982.35\n",
      "1991-01-07  1010.77\n",
      "1991-01-08  1010.77\n",
      "data_n225\n",
      "                Close\n",
      "Date                \n",
      "1991-01-04  24069.18\n",
      "1991-01-05  24069.18\n",
      "1991-01-06  24069.18\n",
      "1991-01-07  23736.57\n",
      "1991-01-08  22897.84\n",
      "data_ftse\n",
      "              Close\n",
      "Date              \n",
      "1991-01-04  2126.1\n",
      "1991-01-05  2126.1\n",
      "1991-01-06  2126.1\n",
      "1991-01-07  2113.3\n",
      "1991-01-08  2099.9\n",
      "data_btco\n",
      "                  Close\n",
      "Date                  \n",
      "2014-09-17  457.334015\n",
      "2014-09-18  424.440002\n",
      "2014-09-19  394.795990\n",
      "2014-09-20  408.903992\n",
      "2014-09-21  398.821014\n"
     ]
    }
   ],
   "source": [
    "# Balance dates to b/w 4 Jan 91 to 1 Nov 21;\n",
    "for p in stocks:\n",
    "    stocks[p] = stocks[p].drop(stocks[p][stocks[p].index < pd.Timestamp('1991-01-04')].index);\n",
    "    stocks[p] = stocks[p].drop(stocks[p][stocks[p].index > pd.Timestamp('2021-11-01')].index);\n",
    "    \n",
    "for i in names:\n",
    "    print(i+\"\\n\", stocks[i].head());"
   ]
  },
  {
   "cell_type": "code",
   "execution_count": 8,
   "id": "60493053",
   "metadata": {},
   "outputs": [],
   "source": [
    "for i in names:\n",
    "    stocks[i].to_csv(r\"clean/\"+i+\".csv\", header=True);"
   ]
  },
  {
   "cell_type": "code",
   "execution_count": null,
   "id": "9647c408",
   "metadata": {},
   "outputs": [],
   "source": []
  },
  {
   "cell_type": "code",
   "execution_count": null,
   "id": "3296b2a8",
   "metadata": {},
   "outputs": [],
   "source": []
  },
  {
   "cell_type": "code",
   "execution_count": null,
   "id": "c507d5f9",
   "metadata": {},
   "outputs": [],
   "source": []
  }
 ],
 "metadata": {
  "kernelspec": {
   "display_name": "Python 3",
   "language": "python",
   "name": "python3"
  },
  "language_info": {
   "codemirror_mode": {
    "name": "ipython",
    "version": 3
   },
   "file_extension": ".py",
   "mimetype": "text/x-python",
   "name": "python",
   "nbconvert_exporter": "python",
   "pygments_lexer": "ipython3",
   "version": "3.9.7"
  }
 },
 "nbformat": 4,
 "nbformat_minor": 5
}
