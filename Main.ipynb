{
 "cells": [
  {
   "cell_type": "code",
   "execution_count": 1,
   "id": "2fba250c",
   "metadata": {},
   "outputs": [],
   "source": [
    "import pandas as pd;\n",
    "import json;\n",
    "import math;"
   ]
  },
  {
   "cell_type": "code",
   "execution_count": 4,
   "id": "618e551b",
   "metadata": {},
   "outputs": [
    {
     "data": {
      "text/html": [
       "<div>\n",
       "<style scoped>\n",
       "    .dataframe tbody tr th:only-of-type {\n",
       "        vertical-align: middle;\n",
       "    }\n",
       "\n",
       "    .dataframe tbody tr th {\n",
       "        vertical-align: top;\n",
       "    }\n",
       "\n",
       "    .dataframe thead th {\n",
       "        text-align: right;\n",
       "    }\n",
       "</style>\n",
       "<table border=\"1\" class=\"dataframe\">\n",
       "  <thead>\n",
       "    <tr style=\"text-align: right;\">\n",
       "      <th></th>\n",
       "      <th>file</th>\n",
       "      <th>range</th>\n",
       "    </tr>\n",
       "  </thead>\n",
       "  <tbody>\n",
       "    <tr>\n",
       "      <th>0</th>\n",
       "      <td>SPX_WSJ.csv</td>\n",
       "      <td>{'start': '2/1/1991', 'end': '3/11/2021'}</td>\n",
       "    </tr>\n",
       "    <tr>\n",
       "      <th>1</th>\n",
       "      <td>SENSEX_WSJ.csv</td>\n",
       "      <td>{'start': '1/1/1991', 'end': '3/11/2021'}</td>\n",
       "    </tr>\n",
       "    <tr>\n",
       "      <th>2</th>\n",
       "      <td>N225_WSJ.csv</td>\n",
       "      <td>{'start': '4/1/1991', 'end': '2/11/2021'}</td>\n",
       "    </tr>\n",
       "    <tr>\n",
       "      <th>3</th>\n",
       "      <td>UKX_WSJ.csv</td>\n",
       "      <td>{'start': '2/1/1991', 'end': '3/11/2021'}</td>\n",
       "    </tr>\n",
       "    <tr>\n",
       "      <th>4</th>\n",
       "      <td>BTC-USD_Yahoo.csv</td>\n",
       "      <td>{'start': '17/9/2014', 'end': '4/11/2021'}</td>\n",
       "    </tr>\n",
       "  </tbody>\n",
       "</table>\n",
       "</div>"
      ],
      "text/plain": [
       "                file                                       range\n",
       "0        SPX_WSJ.csv   {'start': '2/1/1991', 'end': '3/11/2021'}\n",
       "1     SENSEX_WSJ.csv   {'start': '1/1/1991', 'end': '3/11/2021'}\n",
       "2       N225_WSJ.csv   {'start': '4/1/1991', 'end': '2/11/2021'}\n",
       "3        UKX_WSJ.csv   {'start': '2/1/1991', 'end': '3/11/2021'}\n",
       "4  BTC-USD_Yahoo.csv  {'start': '17/9/2014', 'end': '4/11/2021'}"
      ]
     },
     "execution_count": 4,
     "metadata": {},
     "output_type": "execute_result"
    }
   ],
   "source": [
    "map_json = open('datamap.json');\n",
    "nav = json.load(map_json)['raw'];\n",
    "\n",
    "dataset = nav['files'];\n",
    "pd.DataFrame(dataset).reindex(columns=['file','range'])"
   ]
  },
  {
   "cell_type": "code",
   "execution_count": null,
   "id": "7d3da6d2",
   "metadata": {},
   "outputs": [],
   "source": [
    "stocks={}\n",
    "names=['data_snp5', 'data_sens', 'data_n225', 'data_ftse', 'data_btco'];\n",
    "\n",
    "for i in names:\n",
    "    stocks[i] = pd.read_csv('clean/'+i+'.csv');\n",
    "    stocks[i]"
   ]
  }
 ],
 "metadata": {
  "kernelspec": {
   "display_name": "Python 3",
   "language": "python",
   "name": "python3"
  },
  "language_info": {
   "codemirror_mode": {
    "name": "ipython",
    "version": 3
   },
   "file_extension": ".py",
   "mimetype": "text/x-python",
   "name": "python",
   "nbconvert_exporter": "python",
   "pygments_lexer": "ipython3",
   "version": "3.9.7"
  }
 },
 "nbformat": 4,
 "nbformat_minor": 5
}
