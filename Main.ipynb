{
 "cells": [
  {
   "cell_type": "code",
   "execution_count": 71,
   "id": "08ba9449",
   "metadata": {
    "scrolled": true
   },
   "outputs": [],
   "source": [
    "import pandas as pd;\n",
    "import json;\n",
    "import math;"
   ]
  },
  {
   "cell_type": "code",
   "execution_count": 72,
   "id": "c9ee4329",
   "metadata": {},
   "outputs": [
    {
     "name": "stdout",
     "output_type": "stream",
     "text": [
      "Date Style: DD/MM/YYYY\n"
     ]
    },
    {
     "data": {
      "text/html": [
       "<div>\n",
       "<style scoped>\n",
       "    .dataframe tbody tr th:only-of-type {\n",
       "        vertical-align: middle;\n",
       "    }\n",
       "\n",
       "    .dataframe tbody tr th {\n",
       "        vertical-align: top;\n",
       "    }\n",
       "\n",
       "    .dataframe thead th {\n",
       "        text-align: right;\n",
       "    }\n",
       "</style>\n",
       "<table border=\"1\" class=\"dataframe\">\n",
       "  <thead>\n",
       "    <tr style=\"text-align: right;\">\n",
       "      <th></th>\n",
       "      <th>name</th>\n",
       "      <th>file</th>\n",
       "      <th>range</th>\n",
       "      <th>order</th>\n",
       "    </tr>\n",
       "  </thead>\n",
       "  <tbody>\n",
       "    <tr>\n",
       "      <th>0</th>\n",
       "      <td>S&amp;P 500</td>\n",
       "      <td>SPX_WSJ.csv</td>\n",
       "      <td>{'start': '2/1/1991', 'end': '3/11/2021'}</td>\n",
       "      <td>[Date, Open, High, Low, Close]</td>\n",
       "    </tr>\n",
       "    <tr>\n",
       "      <th>1</th>\n",
       "      <td>SENSEX</td>\n",
       "      <td>SENSEX_BSE.csv</td>\n",
       "      <td>{'start': '2/1/1991', 'end': '3/11/2021'}</td>\n",
       "      <td>[Date, Open, High, Low, Close]</td>\n",
       "    </tr>\n",
       "    <tr>\n",
       "      <th>2</th>\n",
       "      <td>NIKKEI 225</td>\n",
       "      <td>N225_Yahoo.csv</td>\n",
       "      <td>{'start': '4/1/1991', 'end': '2/11/2021'}</td>\n",
       "      <td>[Date, Open, High, Low, Close, Adj Close, Volume]</td>\n",
       "    </tr>\n",
       "    <tr>\n",
       "      <th>3</th>\n",
       "      <td>FTSE 100</td>\n",
       "      <td>UKX_WSJ.csv</td>\n",
       "      <td>{'start': '2/1/1991', 'end': '3/11/2021'}</td>\n",
       "      <td>[Date, Open, High, Low, Close]</td>\n",
       "    </tr>\n",
       "    <tr>\n",
       "      <th>4</th>\n",
       "      <td>BTC/USD</td>\n",
       "      <td>BTC-USD_Yahoo.csv</td>\n",
       "      <td>{'start': '17/9/2014', 'end': '4/11/2021'}</td>\n",
       "      <td>[Date, Open, High, Low, Close, Adj Close, Volume]</td>\n",
       "    </tr>\n",
       "  </tbody>\n",
       "</table>\n",
       "</div>"
      ],
      "text/plain": [
       "         name               file                                       range  \\\n",
       "0     S&P 500        SPX_WSJ.csv   {'start': '2/1/1991', 'end': '3/11/2021'}   \n",
       "1      SENSEX     SENSEX_BSE.csv   {'start': '2/1/1991', 'end': '3/11/2021'}   \n",
       "2  NIKKEI 225     N225_Yahoo.csv   {'start': '4/1/1991', 'end': '2/11/2021'}   \n",
       "3    FTSE 100        UKX_WSJ.csv   {'start': '2/1/1991', 'end': '3/11/2021'}   \n",
       "4     BTC/USD  BTC-USD_Yahoo.csv  {'start': '17/9/2014', 'end': '4/11/2021'}   \n",
       "\n",
       "                                               order  \n",
       "0                     [Date, Open, High, Low, Close]  \n",
       "1                     [Date, Open, High, Low, Close]  \n",
       "2  [Date, Open, High, Low, Close, Adj Close, Volume]  \n",
       "3                     [Date, Open, High, Low, Close]  \n",
       "4  [Date, Open, High, Low, Close, Adj Close, Volume]  "
      ]
     },
     "execution_count": 72,
     "metadata": {},
     "output_type": "execute_result"
    }
   ],
   "source": [
    "map_json = open('datamap.json');\n",
    " \n",
    "nav = json.load(map_json)['raw'];\n",
    "\n",
    "dataset = nav['files'];\n",
    "\n",
    "print(\"Date Style: DD/MM/YYYY\");\n",
    "pd.DataFrame(dataset).reindex(columns=['name','file','range', 'order'])"
   ]
  },
  {
   "cell_type": "code",
   "execution_count": 86,
   "id": "1b604298",
   "metadata": {},
   "outputs": [
    {
     "name": "stdout",
     "output_type": "stream",
     "text": [
      "S&P 500 \n",
      "           Date   Close\n",
      "7770  01/02/91  326.45\n",
      "7769  01/03/91  321.91\n",
      "7768  01/04/91  321.00\n",
      "7767  01/07/91  315.44\n",
      "7766  01/08/91  314.90\n",
      "SENSEX \n",
      "           Date    Close\n",
      "7721  01/01/91  1048.29\n",
      "7720  01/02/91   999.26\n",
      "7719  01/03/91   982.35\n",
      "7718  01/04/91   982.35\n",
      "7717  01/07/91  1010.77\n",
      "NIKKEI \n",
      "           Date     Close\n",
      "7572  01/04/91  24069.18\n",
      "7571  01/07/91  23736.57\n",
      "7570  01/08/91  22897.84\n",
      "7569  01/09/91  22969.27\n",
      "7568  01/10/91  23047.36\n",
      "FOOTSIE \n",
      "           Date   Close\n",
      "7887  01/02/91  2128.3\n",
      "7886  01/03/91  2117.8\n",
      "7885  01/04/91  2126.1\n",
      "7884  01/07/91  2113.3\n",
      "7883  01/08/91  2099.9\n",
      "BITCOIN \n",
      "          Date       Close\n",
      "0  2014-09-17  457.334015\n",
      "1  2014-09-18  424.440002\n",
      "2  2014-09-19  394.795990\n",
      "3  2014-09-20  408.903992\n",
      "4  2014-09-21  398.821014\n"
     ]
    }
   ],
   "source": [
    "# Load Dataset, Get Date and Closing and Reverse Where needed;\n",
    "data_snp5 = pd.read_csv('raws/SPX_WSJ.csv')[['Date', 'Close']][::-1];\n",
    "data_sens = pd.read_csv('raws/SENSEX_WSJ.csv')[['Date', 'Close']][::-1];\n",
    "data_n225 = pd.read_csv('raws/N225_WSJ.csv')[['Date', 'Close']][::-1];\n",
    "data_ftse = pd.read_csv('raws/UKX_WSJ.csv')[['Date', 'Close']][::-1];\n",
    "data_btco = pd.read_csv('raws/BTC-USD_Yahoo.csv')[['Date', 'Close']];\n",
    "\n",
    "# Resample Dates, Fill Empty values as 0;\n",
    "data_snp5 = data_snp5.resample('Date').mean().fillna(0);\n",
    "data_sens = data_sens.resample('Date').mean().fillna(0);\n",
    "data_n225 = data_n225.resample('Date').mean().fillna(0);\n",
    "data_ftse = data_ftse.resample('Date').mean().fillna(0);\n",
    "data_btco = data_btco.resample('Date').mean().fillna(0);\n",
    "\n",
    "print(\"S&P 500 \\n\", data_snp5.head());\n",
    "print(\"SENSEX \\n\", data_sens.head());\n",
    "print(\"NIKKEI \\n\", data_n225.head());\n",
    "print(\"FOOTSIE \\n\", data_ftse.head());\n",
    "print(\"BITCOIN \\n\", data_btco.head());"
   ]
  },
  {
   "cell_type": "code",
   "execution_count": 56,
   "id": "60493053",
   "metadata": {},
   "outputs": [],
   "source": [
    "def R_Calc(index):\n",
    "    size = len(index);\n",
    "    R = [0 for i in range(size)];\n",
    "    \n",
    "    # Calculate Returns;\n",
    "    for i in range(size):\n",
    "        print(index[0]);\n",
    "        day = index[i];\n",
    "        prev = index[i - 1] or day;\n",
    "        if day['Close']:\n",
    "            R[i] = math.log10(day['Close']) - math.log10(prev['Close']);\n",
    "        else:\n",
    "            R[i] = 0;\n",
    "            \n",
    "    start = index[0]['Date'];\n",
    "    end = index[size]['Date'];\n",
    "    return R, start, end;"
   ]
  },
  {
   "cell_type": "code",
   "execution_count": null,
   "id": "9647c408",
   "metadata": {},
   "outputs": [],
   "source": []
  },
  {
   "cell_type": "code",
   "execution_count": null,
   "id": "382c346a",
   "metadata": {},
   "outputs": [],
   "source": []
  }
 ],
 "metadata": {
  "kernelspec": {
   "display_name": "Python 3",
   "language": "python",
   "name": "python3"
  },
  "language_info": {
   "codemirror_mode": {
    "name": "ipython",
    "version": 3
   },
   "file_extension": ".py",
   "mimetype": "text/x-python",
   "name": "python",
   "nbconvert_exporter": "python",
   "pygments_lexer": "ipython3",
   "version": "3.9.7"
  }
 },
 "nbformat": 4,
 "nbformat_minor": 5
}
