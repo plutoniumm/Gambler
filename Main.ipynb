{
 "cells": [
  {
   "cell_type": "code",
   "execution_count": 37,
   "id": "9f9e0371",
   "metadata": {},
   "outputs": [],
   "source": [
    "import pandas as pd;\n",
    "import json;\n",
    "import math;"
   ]
  },
  {
   "cell_type": "code",
   "execution_count": 38,
   "id": "5f95a89e",
   "metadata": {},
   "outputs": [
    {
     "data": {
      "text/html": [
       "<div>\n",
       "<style scoped>\n",
       "    .dataframe tbody tr th:only-of-type {\n",
       "        vertical-align: middle;\n",
       "    }\n",
       "\n",
       "    .dataframe tbody tr th {\n",
       "        vertical-align: top;\n",
       "    }\n",
       "\n",
       "    .dataframe thead th {\n",
       "        text-align: right;\n",
       "    }\n",
       "</style>\n",
       "<table border=\"1\" class=\"dataframe\">\n",
       "  <thead>\n",
       "    <tr style=\"text-align: right;\">\n",
       "      <th></th>\n",
       "      <th>file</th>\n",
       "      <th>range</th>\n",
       "    </tr>\n",
       "  </thead>\n",
       "  <tbody>\n",
       "    <tr>\n",
       "      <th>0</th>\n",
       "      <td>SPX_WSJ.csv</td>\n",
       "      <td>{'start': '2/1/1991', 'end': '3/11/2021'}</td>\n",
       "    </tr>\n",
       "    <tr>\n",
       "      <th>1</th>\n",
       "      <td>SENSEX_WSJ.csv</td>\n",
       "      <td>{'start': '1/1/1991', 'end': '3/11/2021'}</td>\n",
       "    </tr>\n",
       "    <tr>\n",
       "      <th>2</th>\n",
       "      <td>N225_WSJ.csv</td>\n",
       "      <td>{'start': '4/1/1991', 'end': '2/11/2021'}</td>\n",
       "    </tr>\n",
       "    <tr>\n",
       "      <th>3</th>\n",
       "      <td>UKX_WSJ.csv</td>\n",
       "      <td>{'start': '2/1/1991', 'end': '3/11/2021'}</td>\n",
       "    </tr>\n",
       "    <tr>\n",
       "      <th>4</th>\n",
       "      <td>BTC-USD_Yahoo.csv</td>\n",
       "      <td>{'start': '17/9/2014', 'end': '4/11/2021'}</td>\n",
       "    </tr>\n",
       "  </tbody>\n",
       "</table>\n",
       "</div>"
      ],
      "text/plain": [
       "                file                                       range\n",
       "0        SPX_WSJ.csv   {'start': '2/1/1991', 'end': '3/11/2021'}\n",
       "1     SENSEX_WSJ.csv   {'start': '1/1/1991', 'end': '3/11/2021'}\n",
       "2       N225_WSJ.csv   {'start': '4/1/1991', 'end': '2/11/2021'}\n",
       "3        UKX_WSJ.csv   {'start': '2/1/1991', 'end': '3/11/2021'}\n",
       "4  BTC-USD_Yahoo.csv  {'start': '17/9/2014', 'end': '4/11/2021'}"
      ]
     },
     "execution_count": 38,
     "metadata": {},
     "output_type": "execute_result"
    }
   ],
   "source": [
    "map_json = open('datamap.json');\n",
    "nav = json.load(map_json)['raw'];\n",
    "\n",
    "dataset = nav['files'];\n",
    "pd.DataFrame(dataset).reindex(columns=['file','range'])"
   ]
  },
  {
   "cell_type": "code",
   "execution_count": 39,
   "id": "79004053",
   "metadata": {},
   "outputs": [
    {
     "name": "stdout",
     "output_type": "stream",
     "text": [
      "             Close\n",
      "Date              \n",
      "1991-01-04  321.00\n",
      "1991-01-05  321.00\n",
      "1991-01-06  321.00\n",
      "1991-01-07  315.44\n",
      "1991-01-08  314.90\n",
      "              Close\n",
      "Date               \n",
      "1991-01-04   982.35\n",
      "1991-01-05   982.35\n",
      "1991-01-06   982.35\n",
      "1991-01-07  1010.77\n",
      "1991-01-08  1010.77\n",
      "               Close\n",
      "Date                \n",
      "1991-01-04  24069.18\n",
      "1991-01-05  24069.18\n",
      "1991-01-06  24069.18\n",
      "1991-01-07  23736.57\n",
      "1991-01-08  22897.84\n",
      "             Close\n",
      "Date              \n",
      "1991-01-04  2126.1\n",
      "1991-01-05  2126.1\n",
      "1991-01-06  2126.1\n",
      "1991-01-07  2113.3\n",
      "1991-01-08  2099.9\n"
     ]
    }
   ],
   "source": [
    "stocks={}\n",
    "names=['data_snp5', 'data_sens', 'data_n225', 'data_ftse'];\n",
    "\n",
    "for i in names:\n",
    "    stocks[i] = pd.read_csv('clean/'+i+'.csv').set_index(['Date']);\n",
    "    print(stocks[i].head());"
   ]
  },
  {
   "cell_type": "code",
   "execution_count": 40,
   "id": "a17ce895",
   "metadata": {},
   "outputs": [
    {
     "name": "stdout",
     "output_type": "stream",
     "text": [
      "data_snp5\n",
      "              Close         R\n",
      "Date                        \n",
      "1991-01-04  321.00  0.000000\n",
      "1991-01-05  321.00  0.000000\n",
      "1991-01-06  321.00  0.000000\n",
      "1991-01-07  315.44 -0.007588\n",
      "1991-01-08  314.90 -0.000744\n",
      "data_sens\n",
      "               Close         R\n",
      "Date                         \n",
      "1991-01-04   982.35  0.000000\n",
      "1991-01-05   982.35  0.000000\n",
      "1991-01-06   982.35  0.000000\n",
      "1991-01-07  1010.77  0.012386\n",
      "1991-01-08  1010.77  0.000000\n",
      "data_n225\n",
      "                Close         R\n",
      "Date                          \n",
      "1991-01-04  24069.18  0.000000\n",
      "1991-01-05  24069.18  0.000000\n",
      "1991-01-06  24069.18  0.000000\n",
      "1991-01-07  23736.57 -0.006043\n",
      "1991-01-08  22897.84 -0.015623\n",
      "data_ftse\n",
      "              Close         R\n",
      "Date                        \n",
      "1991-01-04  2126.1  0.000000\n",
      "1991-01-05  2126.1  0.000000\n",
      "1991-01-06  2126.1  0.000000\n",
      "1991-01-07  2113.3 -0.002623\n",
      "1991-01-08  2099.9 -0.002763\n"
     ]
    }
   ],
   "source": [
    "for p in stocks:\n",
    "    index=stocks[p]; \n",
    "    close=index['Close'];\n",
    "    rets=[0 for i in range(len(close))];\n",
    "    #rets2=[0 for i in range(len(close))];\n",
    "    for i in range(len(close)-1):\n",
    "        rets[i+1]=math.log10(close[i+1]) - math.log10(close[i]);\n",
    "        #rets2[i+1]= rets[i+1]*rets[i+1];\n",
    "    stocks[p]['R']=rets;\n",
    "    #stocks[p]['R^2']=rets2;\n",
    "    print(p+\"\\n\", stocks[p].head());"
   ]
  },
  {
   "cell_type": "code",
   "execution_count": 42,
   "id": "aa689b2e",
   "metadata": {
    "scrolled": true
   },
   "outputs": [
    {
     "name": "stdout",
     "output_type": "stream",
     "text": [
      "            data_snp5  data_sens  data_n225  data_ftse\n",
      "Date                                                  \n",
      "1991-01-04   0.000000   0.000000   0.000000   0.000000\n",
      "1991-01-05   0.000000   0.000000   0.000000   0.000000\n",
      "1991-01-06   0.000000   0.000000   0.000000   0.000000\n",
      "1991-01-07  -0.007588   0.012386  -0.006043  -0.002623\n",
      "1991-01-08  -0.000744   0.000000  -0.015623  -0.002763\n",
      "            data_snp5  data_sens  data_n225  data_ftse\n",
      "Date                                                  \n",
      "1991-01-04     321.00     982.35   24069.18     2126.1\n",
      "1991-01-05     321.00     982.35   24069.18     2126.1\n",
      "1991-01-06     321.00     982.35   24069.18     2126.1\n",
      "1991-01-07     315.44    1010.77   23736.57     2113.3\n",
      "1991-01-08     314.90    1010.77   22897.84     2099.9\n"
     ]
    }
   ],
   "source": [
    "returns = pd.concat(\n",
    "    [stocks[p].drop(columns=['Close']) for p in stocks], \n",
    "    axis=1, \n",
    "    keys=[i for i in names]);\n",
    "returns.columns=names;\n",
    "print(returns.head());\n",
    "\n",
    "closes = pd.concat(\n",
    "    [stocks[p].drop(columns=['R']) for p in stocks], \n",
    "    axis=1, \n",
    "    keys=[i for i in names]);\n",
    "closes.columns=names;\n",
    "print(closes.head());"
   ]
  },
  {
   "cell_type": "code",
   "execution_count": 43,
   "id": "7d1d0622",
   "metadata": {},
   "outputs": [],
   "source": [
    "returns_corr = returns.apply(lambda x : pd.factorize(x)[0]).corr(method='pearson', min_periods=1)"
   ]
  },
  {
   "cell_type": "code",
   "execution_count": 44,
   "id": "cac6b0df",
   "metadata": {},
   "outputs": [
    {
     "name": "stdout",
     "output_type": "stream",
     "text": [
      "Returns\n",
      "            data_snp5  data_sens  data_n225  data_ftse\n",
      "data_snp5   1.000000   0.922258   0.904999   0.959394\n",
      "data_sens   0.922258   1.000000   0.881563   0.926055\n",
      "data_n225   0.904999   0.881563   1.000000   0.913269\n",
      "data_ftse   0.959394   0.926055   0.913269   1.000000 \n",
      "\n",
      "Closes\n",
      "            data_snp5  data_sens  data_n225  data_ftse\n",
      "data_snp5   1.000000   0.996090   0.995616   0.993135\n",
      "data_sens   0.996090   1.000000   0.998799   0.996341\n",
      "data_n225   0.995616   0.998799   1.000000   0.995860\n",
      "data_ftse   0.993135   0.996341   0.995860   1.000000\n"
     ]
    }
   ],
   "source": [
    "returns_corr = returns.apply(lambda x : pd.factorize(x)[0]).corr(method='pearson', min_periods=1);\n",
    "closes_corr = closes.apply(lambda x : pd.factorize(x)[0]).corr(method='pearson', min_periods=1);\n",
    "\n",
    "print(\"Returns\\n\",returns_corr,\"\\n\\nCloses\\n\", closes_corr)"
   ]
  },
  {
   "cell_type": "code",
   "execution_count": null,
   "id": "d38febec",
   "metadata": {},
   "outputs": [],
   "source": []
  }
 ],
 "metadata": {
  "kernelspec": {
   "display_name": "Python 3",
   "language": "python",
   "name": "python3"
  },
  "language_info": {
   "codemirror_mode": {
    "name": "ipython",
    "version": 3
   },
   "file_extension": ".py",
   "mimetype": "text/x-python",
   "name": "python",
   "nbconvert_exporter": "python",
   "pygments_lexer": "ipython3",
   "version": "3.9.7"
  }
 },
 "nbformat": 4,
 "nbformat_minor": 5
}
